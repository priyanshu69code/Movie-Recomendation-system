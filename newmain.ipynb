{
 "cells": [
  {
   "cell_type": "code",
   "execution_count": 375,
   "metadata": {},
   "outputs": [],
   "source": [
    "import pandas as pd\n",
    "import numpy as np"
   ]
  },
  {
   "cell_type": "code",
   "execution_count": 376,
   "metadata": {},
   "outputs": [],
   "source": [
    "df = pd.read_csv(\"combined_file.csv\")"
   ]
  },
  {
   "cell_type": "code",
   "execution_count": 377,
   "metadata": {},
   "outputs": [
    {
     "data": {
      "text/html": [
       "<div>\n",
       "<style scoped>\n",
       "    .dataframe tbody tr th:only-of-type {\n",
       "        vertical-align: middle;\n",
       "    }\n",
       "\n",
       "    .dataframe tbody tr th {\n",
       "        vertical-align: top;\n",
       "    }\n",
       "\n",
       "    .dataframe thead th {\n",
       "        text-align: right;\n",
       "    }\n",
       "</style>\n",
       "<table border=\"1\" class=\"dataframe\">\n",
       "  <thead>\n",
       "    <tr style=\"text-align: right;\">\n",
       "      <th></th>\n",
       "      <th>Movie_id</th>\n",
       "      <th>Movie_name</th>\n",
       "      <th>Release_date</th>\n",
       "      <th>Overview</th>\n",
       "      <th>Ratings</th>\n",
       "      <th>Original_language</th>\n",
       "      <th>Top_5_cast</th>\n",
       "      <th>Directors</th>\n",
       "      <th>Genre_names</th>\n",
       "    </tr>\n",
       "  </thead>\n",
       "  <tbody>\n",
       "    <tr>\n",
       "      <th>0</th>\n",
       "      <td>11224</td>\n",
       "      <td>Cinderella</td>\n",
       "      <td>1950-02-22</td>\n",
       "      <td>Cinderella has faith her dreams of a better li...</td>\n",
       "      <td>7.0</td>\n",
       "      <td>en</td>\n",
       "      <td>Ilene Woods, Eleanor Audley, Verna Felton, Cla...</td>\n",
       "      <td>Hamilton Luske, Wilfred Jackson, Clyde Geronimi</td>\n",
       "      <td>Family, Fantasy, Animation, Romance</td>\n",
       "    </tr>\n",
       "    <tr>\n",
       "      <th>1</th>\n",
       "      <td>599</td>\n",
       "      <td>Sunset Boulevard</td>\n",
       "      <td>1950-08-10</td>\n",
       "      <td>A hack screenwriter writes a screenplay for a ...</td>\n",
       "      <td>8.4</td>\n",
       "      <td>en</td>\n",
       "      <td>William Holden, Gloria Swanson, Erich von Stro...</td>\n",
       "      <td>Billy Wilder</td>\n",
       "      <td>Drama</td>\n",
       "    </tr>\n",
       "    <tr>\n",
       "      <th>2</th>\n",
       "      <td>548</td>\n",
       "      <td>Rashomon</td>\n",
       "      <td>1950-08-26</td>\n",
       "      <td>Brimming with action while incisively examinin...</td>\n",
       "      <td>8.1</td>\n",
       "      <td>ja</td>\n",
       "      <td>Toshirō Mifune, Machiko Kyō, Takashi Shimura, ...</td>\n",
       "      <td>Akira Kurosawa</td>\n",
       "      <td>Crime, Drama, Mystery</td>\n",
       "    </tr>\n",
       "    <tr>\n",
       "      <th>3</th>\n",
       "      <td>705</td>\n",
       "      <td>All About Eve</td>\n",
       "      <td>1950-10-06</td>\n",
       "      <td>From the moment she glimpses her idol at the s...</td>\n",
       "      <td>8.1</td>\n",
       "      <td>en</td>\n",
       "      <td>Bette Davis, Anne Baxter, George Sanders, Cele...</td>\n",
       "      <td>Joseph L. Mankiewicz</td>\n",
       "      <td>Drama</td>\n",
       "    </tr>\n",
       "    <tr>\n",
       "      <th>4</th>\n",
       "      <td>37292</td>\n",
       "      <td>Broken Arrow</td>\n",
       "      <td>1950-08-01</td>\n",
       "      <td>Indian scout Tom Jeffords is sent out to stem ...</td>\n",
       "      <td>6.7</td>\n",
       "      <td>en</td>\n",
       "      <td>James Stewart, Jeff Chandler, Debra Paget, Bas...</td>\n",
       "      <td>Delmer Daves</td>\n",
       "      <td>Western</td>\n",
       "    </tr>\n",
       "  </tbody>\n",
       "</table>\n",
       "</div>"
      ],
      "text/plain": [
       "   Movie_id        Movie_name Release_date  \\\n",
       "0     11224        Cinderella   1950-02-22   \n",
       "1       599  Sunset Boulevard   1950-08-10   \n",
       "2       548          Rashomon   1950-08-26   \n",
       "3       705     All About Eve   1950-10-06   \n",
       "4     37292      Broken Arrow   1950-08-01   \n",
       "\n",
       "                                            Overview  Ratings  \\\n",
       "0  Cinderella has faith her dreams of a better li...      7.0   \n",
       "1  A hack screenwriter writes a screenplay for a ...      8.4   \n",
       "2  Brimming with action while incisively examinin...      8.1   \n",
       "3  From the moment she glimpses her idol at the s...      8.1   \n",
       "4  Indian scout Tom Jeffords is sent out to stem ...      6.7   \n",
       "\n",
       "  Original_language                                         Top_5_cast  \\\n",
       "0                en  Ilene Woods, Eleanor Audley, Verna Felton, Cla...   \n",
       "1                en  William Holden, Gloria Swanson, Erich von Stro...   \n",
       "2                ja  Toshirō Mifune, Machiko Kyō, Takashi Shimura, ...   \n",
       "3                en  Bette Davis, Anne Baxter, George Sanders, Cele...   \n",
       "4                en  James Stewart, Jeff Chandler, Debra Paget, Bas...   \n",
       "\n",
       "                                         Directors  \\\n",
       "0  Hamilton Luske, Wilfred Jackson, Clyde Geronimi   \n",
       "1                                     Billy Wilder   \n",
       "2                                   Akira Kurosawa   \n",
       "3                             Joseph L. Mankiewicz   \n",
       "4                                     Delmer Daves   \n",
       "\n",
       "                           Genre_names  \n",
       "0  Family, Fantasy, Animation, Romance  \n",
       "1                                Drama  \n",
       "2                Crime, Drama, Mystery  \n",
       "3                                Drama  \n",
       "4                              Western  "
      ]
     },
     "execution_count": 377,
     "metadata": {},
     "output_type": "execute_result"
    }
   ],
   "source": [
    "df.head()"
   ]
  },
  {
   "cell_type": "code",
   "execution_count": 378,
   "metadata": {},
   "outputs": [
    {
     "name": "stdout",
     "output_type": "stream",
     "text": [
      "<class 'pandas.core.frame.DataFrame'>\n",
      "RangeIndex: 74000 entries, 0 to 73999\n",
      "Data columns (total 9 columns):\n",
      " #   Column             Non-Null Count  Dtype  \n",
      "---  ------             --------------  -----  \n",
      " 0   Movie_id           74000 non-null  int64  \n",
      " 1   Movie_name         74000 non-null  object \n",
      " 2   Release_date       74000 non-null  object \n",
      " 3   Overview           70113 non-null  object \n",
      " 4   Ratings            74000 non-null  float64\n",
      " 5   Original_language  74000 non-null  object \n",
      " 6   Top_5_cast         72463 non-null  object \n",
      " 7   Directors          73278 non-null  object \n",
      " 8   Genre_names        70334 non-null  object \n",
      "dtypes: float64(1), int64(1), object(7)\n",
      "memory usage: 5.1+ MB\n"
     ]
    }
   ],
   "source": [
    "df.info()"
   ]
  },
  {
   "cell_type": "code",
   "execution_count": 379,
   "metadata": {},
   "outputs": [],
   "source": [
    "for i in df.columns:\n",
    "    df[i] = df[i].replace(np.nan,\"Unkown\")"
   ]
  },
  {
   "cell_type": "code",
   "execution_count": 380,
   "metadata": {},
   "outputs": [],
   "source": [
    "def remove_commas(text):\n",
    "    cleaned_text = text.replace(',', ' ')  # Remove commas\n",
    "    return cleaned_text"
   ]
  },
  {
   "cell_type": "code",
   "execution_count": 381,
   "metadata": {},
   "outputs": [
    {
     "data": {
      "text/html": [
       "<div>\n",
       "<style scoped>\n",
       "    .dataframe tbody tr th:only-of-type {\n",
       "        vertical-align: middle;\n",
       "    }\n",
       "\n",
       "    .dataframe tbody tr th {\n",
       "        vertical-align: top;\n",
       "    }\n",
       "\n",
       "    .dataframe thead th {\n",
       "        text-align: right;\n",
       "    }\n",
       "</style>\n",
       "<table border=\"1\" class=\"dataframe\">\n",
       "  <thead>\n",
       "    <tr style=\"text-align: right;\">\n",
       "      <th></th>\n",
       "      <th>Movie_id</th>\n",
       "      <th>Movie_name</th>\n",
       "      <th>Release_date</th>\n",
       "      <th>Overview</th>\n",
       "      <th>Ratings</th>\n",
       "      <th>Original_language</th>\n",
       "      <th>Top_5_cast</th>\n",
       "      <th>Directors</th>\n",
       "      <th>Genre_names</th>\n",
       "    </tr>\n",
       "  </thead>\n",
       "  <tbody>\n",
       "    <tr>\n",
       "      <th>0</th>\n",
       "      <td>11224</td>\n",
       "      <td>Cinderella</td>\n",
       "      <td>1950-02-22</td>\n",
       "      <td>Cinderella has faith her dreams of a better li...</td>\n",
       "      <td>7.0</td>\n",
       "      <td>en</td>\n",
       "      <td>Ilene Woods, Eleanor Audley, Verna Felton, Cla...</td>\n",
       "      <td>Hamilton Luske, Wilfred Jackson, Clyde Geronimi</td>\n",
       "      <td>Family, Fantasy, Animation, Romance</td>\n",
       "    </tr>\n",
       "    <tr>\n",
       "      <th>1</th>\n",
       "      <td>599</td>\n",
       "      <td>Sunset Boulevard</td>\n",
       "      <td>1950-08-10</td>\n",
       "      <td>A hack screenwriter writes a screenplay for a ...</td>\n",
       "      <td>8.4</td>\n",
       "      <td>en</td>\n",
       "      <td>William Holden, Gloria Swanson, Erich von Stro...</td>\n",
       "      <td>Billy Wilder</td>\n",
       "      <td>Drama</td>\n",
       "    </tr>\n",
       "    <tr>\n",
       "      <th>2</th>\n",
       "      <td>548</td>\n",
       "      <td>Rashomon</td>\n",
       "      <td>1950-08-26</td>\n",
       "      <td>Brimming with action while incisively examinin...</td>\n",
       "      <td>8.1</td>\n",
       "      <td>ja</td>\n",
       "      <td>Toshirō Mifune, Machiko Kyō, Takashi Shimura, ...</td>\n",
       "      <td>Akira Kurosawa</td>\n",
       "      <td>Crime, Drama, Mystery</td>\n",
       "    </tr>\n",
       "    <tr>\n",
       "      <th>3</th>\n",
       "      <td>705</td>\n",
       "      <td>All About Eve</td>\n",
       "      <td>1950-10-06</td>\n",
       "      <td>From the moment she glimpses her idol at the s...</td>\n",
       "      <td>8.1</td>\n",
       "      <td>en</td>\n",
       "      <td>Bette Davis, Anne Baxter, George Sanders, Cele...</td>\n",
       "      <td>Joseph L. Mankiewicz</td>\n",
       "      <td>Drama</td>\n",
       "    </tr>\n",
       "    <tr>\n",
       "      <th>4</th>\n",
       "      <td>37292</td>\n",
       "      <td>Broken Arrow</td>\n",
       "      <td>1950-08-01</td>\n",
       "      <td>Indian scout Tom Jeffords is sent out to stem ...</td>\n",
       "      <td>6.7</td>\n",
       "      <td>en</td>\n",
       "      <td>James Stewart, Jeff Chandler, Debra Paget, Bas...</td>\n",
       "      <td>Delmer Daves</td>\n",
       "      <td>Western</td>\n",
       "    </tr>\n",
       "  </tbody>\n",
       "</table>\n",
       "</div>"
      ],
      "text/plain": [
       "   Movie_id        Movie_name Release_date  \\\n",
       "0     11224        Cinderella   1950-02-22   \n",
       "1       599  Sunset Boulevard   1950-08-10   \n",
       "2       548          Rashomon   1950-08-26   \n",
       "3       705     All About Eve   1950-10-06   \n",
       "4     37292      Broken Arrow   1950-08-01   \n",
       "\n",
       "                                            Overview  Ratings  \\\n",
       "0  Cinderella has faith her dreams of a better li...      7.0   \n",
       "1  A hack screenwriter writes a screenplay for a ...      8.4   \n",
       "2  Brimming with action while incisively examinin...      8.1   \n",
       "3  From the moment she glimpses her idol at the s...      8.1   \n",
       "4  Indian scout Tom Jeffords is sent out to stem ...      6.7   \n",
       "\n",
       "  Original_language                                         Top_5_cast  \\\n",
       "0                en  Ilene Woods, Eleanor Audley, Verna Felton, Cla...   \n",
       "1                en  William Holden, Gloria Swanson, Erich von Stro...   \n",
       "2                ja  Toshirō Mifune, Machiko Kyō, Takashi Shimura, ...   \n",
       "3                en  Bette Davis, Anne Baxter, George Sanders, Cele...   \n",
       "4                en  James Stewart, Jeff Chandler, Debra Paget, Bas...   \n",
       "\n",
       "                                         Directors  \\\n",
       "0  Hamilton Luske, Wilfred Jackson, Clyde Geronimi   \n",
       "1                                     Billy Wilder   \n",
       "2                                   Akira Kurosawa   \n",
       "3                             Joseph L. Mankiewicz   \n",
       "4                                     Delmer Daves   \n",
       "\n",
       "                           Genre_names  \n",
       "0  Family, Fantasy, Animation, Romance  \n",
       "1                                Drama  \n",
       "2                Crime, Drama, Mystery  \n",
       "3                                Drama  \n",
       "4                              Western  "
      ]
     },
     "execution_count": 381,
     "metadata": {},
     "output_type": "execute_result"
    }
   ],
   "source": [
    "df.head()"
   ]
  },
  {
   "cell_type": "code",
   "execution_count": 382,
   "metadata": {},
   "outputs": [],
   "source": [
    "def remove_space_from_names(words):\n",
    "    new_string = \"\"\n",
    "    for i in words:\n",
    "        if i == \" \":\n",
    "            new_string += \"\"\n",
    "        else:\n",
    "            new_string += i\n",
    "    return new_string"
   ]
  },
  {
   "cell_type": "code",
   "execution_count": 383,
   "metadata": {},
   "outputs": [],
   "source": [
    "df[\"Top_5_cast\"] = df[\"Top_5_cast\"].apply(remove_space_from_names)\n",
    "df[\"Directors\"] = df[\"Directors\"].apply(remove_space_from_names)\n",
    "df[\"Genre_names\"] = df[\"Genre_names\"].apply(remove_space_from_names)"
   ]
  },
  {
   "cell_type": "code",
   "execution_count": 384,
   "metadata": {},
   "outputs": [],
   "source": [
    "df[\"tags\"] = df[\"Movie_name\"].apply(remove_space_from_names) + \" \" + df[\"Top_5_cast\"] + \" \" + df[\"Directors\"] + \" \" + df[\"Genre_names\"]+ \" \"+ df[\"Overview\"]"
   ]
  },
  {
   "cell_type": "code",
   "execution_count": 385,
   "metadata": {},
   "outputs": [],
   "source": [
    "def split_and_fill(row):\n",
    "    genres = row['Genre_names'].split(',')\n",
    "    while len(genres) < 3:\n",
    "        genres.append('Unknown')\n",
    "    genres.sort()\n",
    "    return pd.Series(genres[:3], index=['Genre 1', 'Genre 2', 'Genre 3'])"
   ]
  },
  {
   "cell_type": "code",
   "execution_count": 386,
   "metadata": {},
   "outputs": [],
   "source": [
    "def split_and_fill_cast(row):\n",
    "    genres = row['Top_5_cast'].split(',')\n",
    "    while len(genres) < 3:\n",
    "        genres.append('Unknown')\n",
    "    genres.sort()\n",
    "    return pd.Series(genres[:3], index=['Top_1', 'Top_2', 'Top_3'])"
   ]
  },
  {
   "cell_type": "code",
   "execution_count": 387,
   "metadata": {},
   "outputs": [],
   "source": [
    "df[['Genre 1', 'Genre 2', 'Genre 3']] = df.apply(split_and_fill, axis=1)"
   ]
  },
  {
   "cell_type": "code",
   "execution_count": null,
   "metadata": {},
   "outputs": [],
   "source": []
  },
  {
   "cell_type": "markdown",
   "metadata": {},
   "source": [
    "#clustering"
   ]
  },
  {
   "cell_type": "code",
   "execution_count": 388,
   "metadata": {},
   "outputs": [],
   "source": [
    "from sklearn.preprocessing import OneHotEncoder"
   ]
  },
  {
   "cell_type": "code",
   "execution_count": 389,
   "metadata": {},
   "outputs": [
    {
     "name": "stderr",
     "output_type": "stream",
     "text": [
      "c:\\Users\\ppppr\\AppData\\Local\\Programs\\Python\\Python311\\Lib\\site-packages\\sklearn\\preprocessing\\_encoders.py:972: FutureWarning: `sparse` was renamed to `sparse_output` in version 1.2 and will be removed in 1.4. `sparse_output` is ignored unless you leave `sparse` to its default value.\n",
      "  warnings.warn(\n"
     ]
    }
   ],
   "source": [
    "encoder = OneHotEncoder(sparse=False)\n",
    "encoded_features = encoder.fit_transform(df[['Genre 1', 'Genre 2', 'Genre 3',\"Original_language\"]])"
   ]
  },
  {
   "cell_type": "code",
   "execution_count": 390,
   "metadata": {},
   "outputs": [
    {
     "name": "stderr",
     "output_type": "stream",
     "text": [
      "c:\\Users\\ppppr\\AppData\\Local\\Programs\\Python\\Python311\\Lib\\site-packages\\sklearn\\cluster\\_kmeans.py:1412: FutureWarning: The default value of `n_init` will change from 10 to 'auto' in 1.4. Set the value of `n_init` explicitly to suppress the warning\n",
      "  super()._check_params_vs_input(X, default_n_init=10)\n"
     ]
    }
   ],
   "source": [
    "from sklearn.cluster import KMeans\n",
    "\n",
    "\n",
    "num_clusters = 500  # Choose the number of clusters you want\n",
    "\n",
    "kmeans = KMeans(n_clusters=num_clusters, random_state=0)\n",
    "df['Cluster'] = kmeans.fit_predict(encoded_features)"
   ]
  },
  {
   "cell_type": "code",
   "execution_count": 391,
   "metadata": {},
   "outputs": [],
   "source": [
    "new_df = df[[\"Movie_id\",\"Movie_name\",\"tags\",\"Cluster\",\"Genre 1\",\"Genre 2\",\"Genre 3\",\"Original_language\"]]"
   ]
  },
  {
   "cell_type": "code",
   "execution_count": 392,
   "metadata": {},
   "outputs": [
    {
     "data": {
      "text/html": [
       "<div>\n",
       "<style scoped>\n",
       "    .dataframe tbody tr th:only-of-type {\n",
       "        vertical-align: middle;\n",
       "    }\n",
       "\n",
       "    .dataframe tbody tr th {\n",
       "        vertical-align: top;\n",
       "    }\n",
       "\n",
       "    .dataframe thead th {\n",
       "        text-align: right;\n",
       "    }\n",
       "</style>\n",
       "<table border=\"1\" class=\"dataframe\">\n",
       "  <thead>\n",
       "    <tr style=\"text-align: right;\">\n",
       "      <th></th>\n",
       "      <th>Movie_id</th>\n",
       "      <th>Movie_name</th>\n",
       "      <th>tags</th>\n",
       "      <th>Cluster</th>\n",
       "      <th>Genre 1</th>\n",
       "      <th>Genre 2</th>\n",
       "      <th>Genre 3</th>\n",
       "      <th>Original_language</th>\n",
       "    </tr>\n",
       "  </thead>\n",
       "  <tbody>\n",
       "    <tr>\n",
       "      <th>0</th>\n",
       "      <td>11224</td>\n",
       "      <td>Cinderella</td>\n",
       "      <td>Cinderella IleneWoods,EleanorAudley,VernaFelto...</td>\n",
       "      <td>31</td>\n",
       "      <td>Animation</td>\n",
       "      <td>Family</td>\n",
       "      <td>Fantasy</td>\n",
       "      <td>en</td>\n",
       "    </tr>\n",
       "    <tr>\n",
       "      <th>1</th>\n",
       "      <td>599</td>\n",
       "      <td>Sunset Boulevard</td>\n",
       "      <td>SunsetBoulevard WilliamHolden,GloriaSwanson,Er...</td>\n",
       "      <td>1</td>\n",
       "      <td>Drama</td>\n",
       "      <td>Unknown</td>\n",
       "      <td>Unknown</td>\n",
       "      <td>en</td>\n",
       "    </tr>\n",
       "    <tr>\n",
       "      <th>2</th>\n",
       "      <td>548</td>\n",
       "      <td>Rashomon</td>\n",
       "      <td>Rashomon ToshirōMifune,MachikoKyō,TakashiShimu...</td>\n",
       "      <td>0</td>\n",
       "      <td>Crime</td>\n",
       "      <td>Drama</td>\n",
       "      <td>Mystery</td>\n",
       "      <td>ja</td>\n",
       "    </tr>\n",
       "    <tr>\n",
       "      <th>3</th>\n",
       "      <td>705</td>\n",
       "      <td>All About Eve</td>\n",
       "      <td>AllAboutEve BetteDavis,AnneBaxter,GeorgeSander...</td>\n",
       "      <td>1</td>\n",
       "      <td>Drama</td>\n",
       "      <td>Unknown</td>\n",
       "      <td>Unknown</td>\n",
       "      <td>en</td>\n",
       "    </tr>\n",
       "    <tr>\n",
       "      <th>4</th>\n",
       "      <td>37292</td>\n",
       "      <td>Broken Arrow</td>\n",
       "      <td>BrokenArrow JamesStewart,JeffChandler,DebraPag...</td>\n",
       "      <td>29</td>\n",
       "      <td>Unknown</td>\n",
       "      <td>Unknown</td>\n",
       "      <td>Western</td>\n",
       "      <td>en</td>\n",
       "    </tr>\n",
       "  </tbody>\n",
       "</table>\n",
       "</div>"
      ],
      "text/plain": [
       "   Movie_id        Movie_name  \\\n",
       "0     11224        Cinderella   \n",
       "1       599  Sunset Boulevard   \n",
       "2       548          Rashomon   \n",
       "3       705     All About Eve   \n",
       "4     37292      Broken Arrow   \n",
       "\n",
       "                                                tags  Cluster    Genre 1  \\\n",
       "0  Cinderella IleneWoods,EleanorAudley,VernaFelto...       31  Animation   \n",
       "1  SunsetBoulevard WilliamHolden,GloriaSwanson,Er...        1      Drama   \n",
       "2  Rashomon ToshirōMifune,MachikoKyō,TakashiShimu...        0      Crime   \n",
       "3  AllAboutEve BetteDavis,AnneBaxter,GeorgeSander...        1      Drama   \n",
       "4  BrokenArrow JamesStewart,JeffChandler,DebraPag...       29    Unknown   \n",
       "\n",
       "   Genre 2  Genre 3 Original_language  \n",
       "0   Family  Fantasy                en  \n",
       "1  Unknown  Unknown                en  \n",
       "2    Drama  Mystery                ja  \n",
       "3  Unknown  Unknown                en  \n",
       "4  Unknown  Western                en  "
      ]
     },
     "execution_count": 392,
     "metadata": {},
     "output_type": "execute_result"
    }
   ],
   "source": [
    "new_df.head()"
   ]
  },
  {
   "cell_type": "code",
   "execution_count": 393,
   "metadata": {},
   "outputs": [],
   "source": [
    "def find_similar_movies(new_data_point):\n",
    "    new_data_encoded = encoder.transform([new_data_point])\n",
    "    cluster_label = kmeans.predict(new_data_encoded)[0]\n",
    "    similar_movies = df[df['Cluster'] == cluster_label]\n",
    "    return similar_movies  # Returns a subset of Data set where the Cluster is same as data point"
   ]
  },
  {
   "cell_type": "code",
   "execution_count": 394,
   "metadata": {},
   "outputs": [],
   "source": [
    "import pickle"
   ]
  },
  {
   "cell_type": "code",
   "execution_count": 395,
   "metadata": {},
   "outputs": [],
   "source": [
    "def get_genres_for_movie(movie_id):\n",
    "    row = new_df[new_df['Movie_id'] == movie_id]\n",
    "    if not row.empty:\n",
    "        genres = row[['Genre 1', 'Genre 2', 'Genre 3',\"Original_language\"]].values[0].tolist()\n",
    "        return genres\n",
    "    else:\n",
    "        return None  # Return None if the movie ID is not found"
   ]
  },
  {
   "cell_type": "code",
   "execution_count": 396,
   "metadata": {},
   "outputs": [],
   "source": [
    "from sklearn.feature_extraction.text import CountVectorizer"
   ]
  },
  {
   "cell_type": "code",
   "execution_count": 397,
   "metadata": {},
   "outputs": [],
   "source": [
    "vectorizer = CountVectorizer(max_features = 80000,stop_words = \"english\")"
   ]
  },
  {
   "cell_type": "code",
   "execution_count": 398,
   "metadata": {},
   "outputs": [
    {
     "data": {
      "text/html": [
       "<style>#sk-container-id-11 {color: black;}#sk-container-id-11 pre{padding: 0;}#sk-container-id-11 div.sk-toggleable {background-color: white;}#sk-container-id-11 label.sk-toggleable__label {cursor: pointer;display: block;width: 100%;margin-bottom: 0;padding: 0.3em;box-sizing: border-box;text-align: center;}#sk-container-id-11 label.sk-toggleable__label-arrow:before {content: \"▸\";float: left;margin-right: 0.25em;color: #696969;}#sk-container-id-11 label.sk-toggleable__label-arrow:hover:before {color: black;}#sk-container-id-11 div.sk-estimator:hover label.sk-toggleable__label-arrow:before {color: black;}#sk-container-id-11 div.sk-toggleable__content {max-height: 0;max-width: 0;overflow: hidden;text-align: left;background-color: #f0f8ff;}#sk-container-id-11 div.sk-toggleable__content pre {margin: 0.2em;color: black;border-radius: 0.25em;background-color: #f0f8ff;}#sk-container-id-11 input.sk-toggleable__control:checked~div.sk-toggleable__content {max-height: 200px;max-width: 100%;overflow: auto;}#sk-container-id-11 input.sk-toggleable__control:checked~label.sk-toggleable__label-arrow:before {content: \"▾\";}#sk-container-id-11 div.sk-estimator input.sk-toggleable__control:checked~label.sk-toggleable__label {background-color: #d4ebff;}#sk-container-id-11 div.sk-label input.sk-toggleable__control:checked~label.sk-toggleable__label {background-color: #d4ebff;}#sk-container-id-11 input.sk-hidden--visually {border: 0;clip: rect(1px 1px 1px 1px);clip: rect(1px, 1px, 1px, 1px);height: 1px;margin: -1px;overflow: hidden;padding: 0;position: absolute;width: 1px;}#sk-container-id-11 div.sk-estimator {font-family: monospace;background-color: #f0f8ff;border: 1px dotted black;border-radius: 0.25em;box-sizing: border-box;margin-bottom: 0.5em;}#sk-container-id-11 div.sk-estimator:hover {background-color: #d4ebff;}#sk-container-id-11 div.sk-parallel-item::after {content: \"\";width: 100%;border-bottom: 1px solid gray;flex-grow: 1;}#sk-container-id-11 div.sk-label:hover label.sk-toggleable__label {background-color: #d4ebff;}#sk-container-id-11 div.sk-serial::before {content: \"\";position: absolute;border-left: 1px solid gray;box-sizing: border-box;top: 0;bottom: 0;left: 50%;z-index: 0;}#sk-container-id-11 div.sk-serial {display: flex;flex-direction: column;align-items: center;background-color: white;padding-right: 0.2em;padding-left: 0.2em;position: relative;}#sk-container-id-11 div.sk-item {position: relative;z-index: 1;}#sk-container-id-11 div.sk-parallel {display: flex;align-items: stretch;justify-content: center;background-color: white;position: relative;}#sk-container-id-11 div.sk-item::before, #sk-container-id-11 div.sk-parallel-item::before {content: \"\";position: absolute;border-left: 1px solid gray;box-sizing: border-box;top: 0;bottom: 0;left: 50%;z-index: -1;}#sk-container-id-11 div.sk-parallel-item {display: flex;flex-direction: column;z-index: 1;position: relative;background-color: white;}#sk-container-id-11 div.sk-parallel-item:first-child::after {align-self: flex-end;width: 50%;}#sk-container-id-11 div.sk-parallel-item:last-child::after {align-self: flex-start;width: 50%;}#sk-container-id-11 div.sk-parallel-item:only-child::after {width: 0;}#sk-container-id-11 div.sk-dashed-wrapped {border: 1px dashed gray;margin: 0 0.4em 0.5em 0.4em;box-sizing: border-box;padding-bottom: 0.4em;background-color: white;}#sk-container-id-11 div.sk-label label {font-family: monospace;font-weight: bold;display: inline-block;line-height: 1.2em;}#sk-container-id-11 div.sk-label-container {text-align: center;}#sk-container-id-11 div.sk-container {/* jupyter's `normalize.less` sets `[hidden] { display: none; }` but bootstrap.min.css set `[hidden] { display: none !important; }` so we also need the `!important` here to be able to override the default hidden behavior on the sphinx rendered scikit-learn.org. See: https://github.com/scikit-learn/scikit-learn/issues/21755 */display: inline-block !important;position: relative;}#sk-container-id-11 div.sk-text-repr-fallback {display: none;}</style><div id=\"sk-container-id-11\" class=\"sk-top-container\"><div class=\"sk-text-repr-fallback\"><pre>CountVectorizer(max_features=80000, stop_words=&#x27;english&#x27;)</pre><b>In a Jupyter environment, please rerun this cell to show the HTML representation or trust the notebook. <br />On GitHub, the HTML representation is unable to render, please try loading this page with nbviewer.org.</b></div><div class=\"sk-container\" hidden><div class=\"sk-item\"><div class=\"sk-estimator sk-toggleable\"><input class=\"sk-toggleable__control sk-hidden--visually\" id=\"sk-estimator-id-11\" type=\"checkbox\" checked><label for=\"sk-estimator-id-11\" class=\"sk-toggleable__label sk-toggleable__label-arrow\">CountVectorizer</label><div class=\"sk-toggleable__content\"><pre>CountVectorizer(max_features=80000, stop_words=&#x27;english&#x27;)</pre></div></div></div></div></div>"
      ],
      "text/plain": [
       "CountVectorizer(max_features=80000, stop_words='english')"
      ]
     },
     "execution_count": 398,
     "metadata": {},
     "output_type": "execute_result"
    }
   ],
   "source": [
    "vectorizer.fit(new_df[\"tags\"])"
   ]
  },
  {
   "cell_type": "code",
   "execution_count": 399,
   "metadata": {},
   "outputs": [
    {
     "name": "stderr",
     "output_type": "stream",
     "text": [
      "C:\\Users\\ppppr\\AppData\\Local\\Temp\\ipykernel_1288\\2078571689.py:1: SettingWithCopyWarning: \n",
      "A value is trying to be set on a copy of a slice from a DataFrame.\n",
      "Try using .loc[row_indexer,col_indexer] = value instead\n",
      "\n",
      "See the caveats in the documentation: https://pandas.pydata.org/pandas-docs/stable/user_guide/indexing.html#returning-a-view-versus-a-copy\n",
      "  new_df[\"Movie_key\"] = df[\"Movie_name\"] + \" \" + \tdf[\"Release_date\"]\n"
     ]
    }
   ],
   "source": [
    "new_df[\"Movie_key\"] = df[\"Movie_name\"] + \" \" + \tdf[\"Release_date\"]"
   ]
  },
  {
   "cell_type": "code",
   "execution_count": 400,
   "metadata": {},
   "outputs": [],
   "source": [
    "pickle.dump(new_df,open(\"data.pkl\",\"wb\"))"
   ]
  },
  {
   "cell_type": "code",
   "execution_count": 401,
   "metadata": {},
   "outputs": [],
   "source": [
    "pickle.dump(encoder,open(\"encoder.pkl\",\"wb\"))"
   ]
  },
  {
   "cell_type": "code",
   "execution_count": 402,
   "metadata": {},
   "outputs": [],
   "source": [
    "pickle.dump(kmeans,open(\"kmeans.pkl\",\"wb\"))"
   ]
  },
  {
   "cell_type": "code",
   "execution_count": 403,
   "metadata": {},
   "outputs": [],
   "source": [
    "pickle.dump(vectorizer,open(\"vectorizer.pkl\",\"wb\"))"
   ]
  },
  {
   "cell_type": "code",
   "execution_count": 404,
   "metadata": {},
   "outputs": [],
   "source": [
    "from sklearn.metrics.pairwise import cosine_similarity"
   ]
  },
  {
   "cell_type": "code",
   "execution_count": null,
   "metadata": {},
   "outputs": [],
   "source": []
  },
  {
   "cell_type": "code",
   "execution_count": 405,
   "metadata": {},
   "outputs": [],
   "source": [
    "import requests\n",
    "from IPython.display import display, Image\n",
    "\n",
    "TMDB_API_KEY = 'b2b3610b2d734655e8f50a74599f5a62'  # Replace with your TMDB API key\n",
    "BASE_URL = 'https://api.themoviedb.org/3'\n",
    "POSTER_BASE_URL = 'https://image.tmdb.org/t/p/w500'\n",
    "\n",
    "def fetch_and_show_movie_poster(movie_id):\n",
    "    url = f\"{BASE_URL}/movie/{movie_id}?api_key={TMDB_API_KEY}\"\n",
    "    response = requests.get(url)\n",
    "    \n",
    "    if response.status_code == 200:\n",
    "        movie_data = response.json()\n",
    "        poster_path = movie_data.get('poster_path')\n",
    "        \n",
    "        if poster_path:\n",
    "            poster_url = f\"{POSTER_BASE_URL}/{poster_path}\"\n",
    "            display(Image(url=poster_url))\n",
    "        else:\n",
    "            print(\"No poster available for this movie.\")\n",
    "    else:\n",
    "        print(\"Error fetching movie data.\")\n"
   ]
  },
  {
   "cell_type": "code",
   "execution_count": 429,
   "metadata": {},
   "outputs": [],
   "source": [
    "def predict(movie_id):\n",
    "    data = find_similar_movies(get_genres_for_movie(movie_id))\n",
    "    movie = vectorizer.transform(new_df[new_df[\"Movie_id\"] == movie_id][\"tags\"]).toarray()\n",
    "    matrix = []\n",
    "    for index, value in data[\"tags\"].items():\n",
    "        others = vectorizer.transform([value]).toarray()\n",
    "        cosine = cosine_similarity(movie,others)\n",
    "        matrix.append((cosine,index))\n",
    "    sorted_list = sorted(matrix, key=lambda x: x[0][0][0], reverse=True)\n",
    "    for i in range(1,6):\n",
    "        fetch_and_show_movie_poster(new_df[\"Movie_id\"].iloc[sorted_list[i][1]])\n",
    "        print(new_df[\"Movie_name\"].iloc[sorted_list[i][1]])\n"
   ]
  },
  {
   "cell_type": "code",
   "execution_count": 430,
   "metadata": {},
   "outputs": [
    {
     "name": "stderr",
     "output_type": "stream",
     "text": [
      "c:\\Users\\ppppr\\AppData\\Local\\Programs\\Python\\Python311\\Lib\\site-packages\\sklearn\\base.py:464: UserWarning: X does not have valid feature names, but OneHotEncoder was fitted with feature names\n",
      "  warnings.warn(\n"
     ]
    },
    {
     "data": {
      "text/html": [
       "<img src=\"https://image.tmdb.org/t/p/w500//4ssDuvEDkSArWEdyBl2X5EHvYKU.jpg\"/>"
      ],
      "text/plain": [
       "<IPython.core.display.Image object>"
      ]
     },
     "metadata": {},
     "output_type": "display_data"
    },
    {
     "name": "stdout",
     "output_type": "stream",
     "text": [
      "Avengers: Age of Ultron\n"
     ]
    },
    {
     "data": {
      "text/html": [
       "<img src=\"https://image.tmdb.org/t/p/w500//7WsyChQLEftFiDOVTGkv3hFpyyt.jpg\"/>"
      ],
      "text/plain": [
       "<IPython.core.display.Image object>"
      ]
     },
     "metadata": {},
     "output_type": "display_data"
    },
    {
     "name": "stdout",
     "output_type": "stream",
     "text": [
      "Avengers: Infinity War\n"
     ]
    },
    {
     "data": {
      "text/html": [
       "<img src=\"https://image.tmdb.org/t/p/w500//rAGiXaUfPzY7CDEyNKUofk3Kw2e.jpg\"/>"
      ],
      "text/plain": [
       "<IPython.core.display.Image object>"
      ]
     },
     "metadata": {},
     "output_type": "display_data"
    },
    {
     "name": "stdout",
     "output_type": "stream",
     "text": [
      "Captain America: Civil War\n"
     ]
    },
    {
     "data": {
      "text/html": [
       "<img src=\"https://image.tmdb.org/t/p/w500//ijpRQOwZzGy0vb3Uqmk2Naug1C0.jpg\"/>"
      ],
      "text/plain": [
       "<IPython.core.display.Image object>"
      ]
     },
     "metadata": {},
     "output_type": "display_data"
    },
    {
     "name": "stdout",
     "output_type": "stream",
     "text": [
      "Allegiant\n"
     ]
    },
    {
     "data": {
      "text/html": [
       "<img src=\"https://image.tmdb.org/t/p/w500//or06FN3Dka5tukK1e9sl16pB3iy.jpg\"/>"
      ],
      "text/plain": [
       "<IPython.core.display.Image object>"
      ]
     },
     "metadata": {},
     "output_type": "display_data"
    },
    {
     "name": "stdout",
     "output_type": "stream",
     "text": [
      "Avengers: Endgame\n"
     ]
    }
   ],
   "source": [
    "predict(24428)"
   ]
  }
 ],
 "metadata": {
  "kernelspec": {
   "display_name": "Python 3",
   "language": "python",
   "name": "python3"
  },
  "language_info": {
   "codemirror_mode": {
    "name": "ipython",
    "version": 3
   },
   "file_extension": ".py",
   "mimetype": "text/x-python",
   "name": "python",
   "nbconvert_exporter": "python",
   "pygments_lexer": "ipython3",
   "version": "3.11.4"
  },
  "orig_nbformat": 4
 },
 "nbformat": 4,
 "nbformat_minor": 2
}
